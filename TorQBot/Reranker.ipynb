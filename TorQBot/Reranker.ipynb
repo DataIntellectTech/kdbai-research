{
 "cells": [
  {
   "cell_type": "code",
   "execution_count": null,
   "id": "a9fe7245-a844-4ad1-9658-bb6a871e63c9",
   "metadata": {},
   "outputs": [],
   "source": [
    "import os\n",
    "import pandas as pd\n",
    "from langchain_community.document_loaders import TextLoader\n",
    "from langchain_community.vectorstores import FAISS\n",
    "from langchain_openai import OpenAIEmbeddings\n",
    "from langchain_text_splitters import RecursiveCharacterTextSplitter\n",
    "from langchain.retrievers import ContextualCompressionRetriever\n",
    "from langchain.retrievers.document_compressors import FlashrankRerank\n",
    "from langchain_openai import ChatOpenAI\n",
    "from langchain.chains import RetrievalQA\n",
    "\n",
    "os.environ['OPENAI_API_KEY'] = \"<your API key>\"\n",
    "\n",
    "documents = TextLoader(\n",
    "    \"./data/TorQ+Conf.txt\",\n",
    ").load()\n",
    "text_splitter = RecursiveCharacterTextSplitter(chunk_size=500, chunk_overlap=100)\n",
    "texts = text_splitter.split_documents(documents)\n",
    "for idx, text in enumerate(texts):\n",
    "    text.metadata[\"id\"] = idx\n",
    "\n",
    "embedding = OpenAIEmbeddings(model=\"text-embedding-ada-002\")\n",
    "retriever = FAISS.from_documents(texts, embedding).as_retriever(search_kwargs={\"k\": 20})\n",
    "\n",
    "llm = ChatOpenAI(temperature=0)\n",
    "\n",
    "compressor = FlashrankRerank()\n",
    "compression_retriever = ContextualCompressionRetriever(base_compressor=compressor, base_retriever=retriever)"
   ]
  },
  {
   "cell_type": "code",
   "execution_count": null,
   "id": "e9d5644d-ef2c-4c81-ac8b-c12a1e014fc5",
   "metadata": {},
   "outputs": [],
   "source": [
    "query = \"How would I query my quote table for Google and IBM from last week until now?\"\n",
    "compressed_docs = compression_retriever.get_relevant_documents(query)\n",
    "qabot = RetrievalQA.from_chain_type(llm=llm, retriever=compression_retriever)\n",
    "print(f'{query}\\n')\n",
    "print(qabot.invoke(dict(query=query))['result'])"
   ]
  },
  {
   "cell_type": "code",
   "execution_count": null,
   "id": "475b4e57-3fd6-46df-bef0-dea68ec47d4c",
   "metadata": {},
   "outputs": [],
   "source": []
  }
 ],
 "metadata": {
  "kernelspec": {
   "display_name": "Python 3 (ipykernel)",
   "language": "python",
   "name": "python3"
  },
  "language_info": {
   "codemirror_mode": {
    "name": "ipython",
    "version": 3
   },
   "file_extension": ".py",
   "mimetype": "text/x-python",
   "name": "python",
   "nbconvert_exporter": "python",
   "pygments_lexer": "ipython3",
   "version": "3.10.12"
  }
 },
 "nbformat": 4,
 "nbformat_minor": 5
}
